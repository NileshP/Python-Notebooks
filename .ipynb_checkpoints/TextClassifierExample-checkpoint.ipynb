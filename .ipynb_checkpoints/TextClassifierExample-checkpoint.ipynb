{
 "cells": [
  {
   "cell_type": "code",
   "execution_count": 1,
   "metadata": {},
   "outputs": [
    {
     "name": "stdout",
     "output_type": "stream",
     "text": [
      "[(',', 77717), ('the', 76529), ('.', 65876), ('a', 38106), ('and', 35576), ('of', 34123), ('to', 31937), (\"'\", 30585), ('is', 25195), ('in', 21822), ('s', 18513), ('\"', 17612), ('it', 16107), ('that', 15924), ('-', 15595)]\n"
     ]
    }
   ],
   "source": [
    "import nltk\n",
    "import random\n",
    "\n",
    "from nltk.corpus import movie_reviews\n",
    "\n",
    "documents = []\n",
    "\n",
    "for category in movie_reviews.categories():\n",
    "    for fileid in movie_reviews.fileids(category):\n",
    "        documents.append((list(movie_reviews.words(fileid)),category));       \n",
    " \n",
    "random.shuffle(documents)\n",
    "\n",
    "all_words = [] \n",
    "for w in movie_reviews.words():\n",
    "    all_words.append(w.lower())\n",
    "\n",
    "all_words = nltk.FreqDist(all_words)\n",
    "\n",
    "#print(all_words.most_common(15))\n"
   ]
  },
  {
   "cell_type": "code",
   "execution_count": 2,
   "metadata": {},
   "outputs": [],
   "source": [
    "#print(all_words[\"stupid\"])\n",
    "\n",
    "word_features = list(all_words.keys())[:3000]\n",
    "\n",
    "def find_features(document):\n",
    "    words = set(document)\n",
    "    features = {}\n",
    "    for w in word_features:\n",
    "        features[w] = (w in words)\n",
    "        \n",
    "    return features\n",
    "    \n",
    "#print((find_features(movie_reviews.words('neg/cv000_29416.txt'))))\n",
    "\n",
    "\n",
    "featuresets = [(find_features(rev),category) for (rev,category) in documents]\n",
    "\n",
    "\n",
    "#print(featuresets[2])"
   ]
  },
  {
   "cell_type": "code",
   "execution_count": 7,
   "metadata": {},
   "outputs": [
    {
     "name": "stdout",
     "output_type": "stream",
     "text": [
      "Naive Bayes Algo Accuracy Percent : 83.0\n",
      "Most Informative Features\n",
      "                  regard = True              pos : neg    =     11.7 : 1.0\n",
      "                  annual = True              pos : neg    =      9.7 : 1.0\n",
      "                   sucks = True              neg : pos    =      9.4 : 1.0\n",
      "                 idiotic = True              neg : pos    =      9.0 : 1.0\n",
      "                bothered = True              neg : pos    =      9.0 : 1.0\n",
      "                 frances = True              pos : neg    =      8.4 : 1.0\n",
      "           unimaginative = True              neg : pos    =      8.3 : 1.0\n",
      "             silverstone = True              neg : pos    =      7.7 : 1.0\n",
      "                 martian = True              neg : pos    =      7.7 : 1.0\n",
      "              schumacher = True              neg : pos    =      7.0 : 1.0\n",
      "                  shoddy = True              neg : pos    =      7.0 : 1.0\n",
      "                   groan = True              neg : pos    =      7.0 : 1.0\n",
      "                  suvari = True              neg : pos    =      7.0 : 1.0\n",
      "                    mena = True              neg : pos    =      7.0 : 1.0\n",
      "                  turkey = True              neg : pos    =      6.8 : 1.0\n",
      "               atrocious = True              neg : pos    =      6.6 : 1.0\n",
      "                obstacle = True              pos : neg    =      6.3 : 1.0\n",
      "                 cunning = True              pos : neg    =      6.3 : 1.0\n",
      "                 singers = True              pos : neg    =      6.3 : 1.0\n",
      "                 jumbled = True              neg : pos    =      6.3 : 1.0\n",
      "                  stinks = True              neg : pos    =      5.8 : 1.0\n",
      "                     ugh = True              neg : pos    =      5.8 : 1.0\n",
      "                  justin = True              neg : pos    =      5.8 : 1.0\n",
      "                 unravel = True              pos : neg    =      5.7 : 1.0\n",
      "                     liu = True              neg : pos    =      5.7 : 1.0\n",
      "                  manson = True              neg : pos    =      5.7 : 1.0\n",
      "                   plods = True              neg : pos    =      5.7 : 1.0\n",
      "                  canyon = True              neg : pos    =      5.7 : 1.0\n",
      "                 kidding = True              neg : pos    =      5.7 : 1.0\n",
      "            surveillance = True              neg : pos    =      5.7 : 1.0\n",
      "                 bronson = True              neg : pos    =      5.7 : 1.0\n",
      "                    lame = True              neg : pos    =      5.4 : 1.0\n",
      "               unlikable = True              neg : pos    =      5.4 : 1.0\n",
      "                  poorly = True              neg : pos    =      5.2 : 1.0\n",
      "                   awful = True              neg : pos    =      5.2 : 1.0\n"
     ]
    }
   ],
   "source": [
    "training_set = featuresets[:1900]\n",
    "testing_set = featuresets[1900:]\n",
    "\n",
    "classifier = nltk.NaiveBayesClassifier.train(training_set)\n",
    "print(\"Naive Bayes Algo Accuracy Percent :\", (nltk.classify.accuracy(classifier, testing_set))*100)\n",
    "\n",
    "classifier.show_most_informative_features(35)"
   ]
  },
  {
   "cell_type": "code",
   "execution_count": 8,
   "metadata": {
    "collapsed": true
   },
   "outputs": [],
   "source": [
    "import pickle\n",
    "\n",
    "save_classifier = open(\"naivebayes.pickle\",\"wb\")\n",
    "pickle.dump(classifier,save_classifier)\n",
    "save_classifier.close()"
   ]
  },
  {
   "cell_type": "code",
   "execution_count": null,
   "metadata": {
    "collapsed": true
   },
   "outputs": [],
   "source": [
    "classifier_f = open(\"naivebayes.pickle\",\"rb\")\n",
    "classifier = pickle.load(classifier_f)\n",
    "classifier_f.close()\n",
    "\n",
    "\n",
    "print(\"Naive Bayes Algo Accuracy Percent :\", (nltk.classify.accuracy(classifier, testing_set))*100)\n",
    "\n",
    "classifier.show_most_informative_features(35)\n"
   ]
  }
 ],
 "metadata": {
  "kernelspec": {
   "display_name": "Python 3",
   "language": "python",
   "name": "python3"
  },
  "language_info": {
   "codemirror_mode": {
    "name": "ipython",
    "version": 3
   },
   "file_extension": ".py",
   "mimetype": "text/x-python",
   "name": "python",
   "nbconvert_exporter": "python",
   "pygments_lexer": "ipython3",
   "version": "3.6.1"
  }
 },
 "nbformat": 4,
 "nbformat_minor": 2
}
